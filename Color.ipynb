{
  "nbformat": 4,
  "nbformat_minor": 0,
  "metadata": {
    "colab": {
      "name": "Color.ipynb",
      "version": "0.3.2",
      "provenance": [],
      "collapsed_sections": [],
      "include_colab_link": true
    },
    "kernelspec": {
      "name": "python3",
      "display_name": "Python 3"
    },
    "accelerator": "GPU"
  },
  "cells": [
    {
      "cell_type": "markdown",
      "metadata": {
        "id": "view-in-github",
        "colab_type": "text"
      },
      "source": [
        "[View in Colaboratory](https://colab.research.google.com/github/IamShivamJaiswal/ColorIdentification/blob/master/Color.ipynb)"
      ]
    },
    {
      "metadata": {
        "id": "eOQG196ukWY_",
        "colab_type": "code",
        "colab": {
          "base_uri": "https://localhost:8080/",
          "height": 5440
        },
        "outputId": "95f84f68-f5dd-4e15-ab83-745ea8788173"
      },
      "cell_type": "code",
      "source": [
        "!wget https://techgig.com/files/contest_upload_files/Image_Processing.zip\n",
        "!unzip Image_Processing.zip\n",
        "!mv Use\\ Case\\ 1 UseCase1\n",
        "!mv UseCase1/Challenging\\ Images UseCase1/ChallengingImages"
      ],
      "execution_count": 2,
      "outputs": [
        {
          "output_type": "stream",
          "text": [
            "--2018-08-18 05:19:23--  https://techgig.com/files/contest_upload_files/Image_Processing.zip\n",
            "Resolving techgig.com (techgig.com)... 223.165.25.21\n",
            "Connecting to techgig.com (techgig.com)|223.165.25.21|:443... connected.\n",
            "HTTP request sent, awaiting response... 301 Moved Permanently\n",
            "Location: https://www.techgig.com/files/contest_upload_files/Image_Processing.zip [following]\n",
            "--2018-08-18 05:19:24--  https://www.techgig.com/files/contest_upload_files/Image_Processing.zip\n",
            "Resolving www.techgig.com (www.techgig.com)... 223.165.25.21\n",
            "Connecting to www.techgig.com (www.techgig.com)|223.165.25.21|:443... connected.\n",
            "HTTP request sent, awaiting response... 200 OK\n",
            "Length: 71737473 (68M) [application/zip]\n",
            "Saving to: ‘Image_Processing.zip’\n",
            "\n",
            "Image_Processing.zi  73%[=============>      ]  50.36M   267KB/s    in 3m 26s  \n",
            "\n",
            "2018-08-18 05:22:52 (251 KB/s) - Read error at byte 52810999/71737473 (Connection reset by peer). Retrying.\n",
            "\n",
            "--2018-08-18 05:22:53--  (try: 2)  https://www.techgig.com/files/contest_upload_files/Image_Processing.zip\n",
            "Connecting to www.techgig.com (www.techgig.com)|223.165.25.21|:443... connected.\n",
            "HTTP request sent, awaiting response... 206 Partial Content\n",
            "Length: 71737473 (68M), 18926474 (18M) remaining [application/zip]\n",
            "Saving to: ‘Image_Processing.zip’\n",
            "\n",
            "Image_Processing.zi 100%[++++++++++++++=====>]  68.41M   178KB/s    in 75s     \n",
            "\n",
            "2018-08-18 05:24:09 (245 KB/s) - ‘Image_Processing.zip’ saved [71737473/71737473]\n",
            "\n",
            "Archive:  Image_Processing.zip\n",
            "   creating: Dataset/\n",
            "   creating: Dataset/Train/\n",
            "   creating: Dataset/Test/\n",
            "   creating: Dataset/Train/grey/\n",
            "  inflating: Dataset/Train/grey/gry_train_66.jpg  \n",
            "  inflating: Dataset/Train/grey/gry_train_25.jpg  \n",
            "  inflating: Dataset/Train/grey/gry_train_11.jpg  \n",
            "  inflating: Dataset/Train/grey/gry_train_101.jpg  \n",
            "  inflating: Dataset/Train/grey/gry_train_1.jpg  \n",
            "  inflating: Dataset/Train/grey/gry_train_10.jpg  \n",
            "  inflating: Dataset/Train/grey/gry_train_100.jpg  \n",
            "  inflating: Dataset/Train/grey/gry_train_14.jpg  \n",
            "  inflating: Dataset/Train/grey/gry_train_12.jpg  \n",
            "  inflating: Dataset/Train/grey/gry_train_2.jpg  \n",
            "  inflating: Dataset/Train/grey/gry_train_16.jpg  \n",
            "  inflating: Dataset/Train/grey/gry_train_20.jpg  \n",
            "  inflating: Dataset/Train/grey/gry_train_13.jpg  \n",
            "  inflating: Dataset/Train/grey/gry_train_17.jpg  \n",
            "  inflating: Dataset/Train/grey/gry_train_18.jpg  \n",
            "  inflating: Dataset/Train/grey/gry_train_19.jpg  \n",
            "  inflating: Dataset/Train/grey/gry_train_28.jpg  \n",
            "  inflating: Dataset/Train/grey/gry_train_15.jpg  \n",
            "  inflating: Dataset/Train/grey/gry_train_27.jpg  \n",
            "  inflating: Dataset/Train/grey/gry_train_26.jpg  \n",
            "  inflating: Dataset/Train/grey/gry_train_3.jpg  \n",
            "  inflating: Dataset/Train/grey/gry_train_24.jpg  \n",
            "  inflating: Dataset/Train/grey/gry_train_32.jpg  \n",
            "  inflating: Dataset/Train/grey/gry_train_22.jpg  \n",
            "  inflating: Dataset/Train/grey/gry_train_23.jpg  \n",
            "  inflating: Dataset/Train/grey/gry_train_29.jpg  \n",
            "  inflating: Dataset/Train/grey/gry_train_21.jpg  \n",
            "  inflating: Dataset/Train/grey/gry_train_39.jpg  \n",
            "  inflating: Dataset/Train/grey/gry_train_31.jpg  \n",
            "  inflating: Dataset/Train/grey/gry_train_35.jpg  \n",
            "  inflating: Dataset/Train/grey/gry_train_36.jpg  \n",
            "  inflating: Dataset/Train/grey/gry_train_30.jpg  \n",
            "  inflating: Dataset/Train/grey/gry_train_33.jpg  \n",
            "  inflating: Dataset/Train/grey/gry_train_34.jpg  \n",
            "  inflating: Dataset/Train/grey/gry_train_38.jpg  \n",
            "  inflating: Dataset/Train/grey/gry_train_40.jpg  \n",
            "  inflating: Dataset/Train/grey/gry_train_37.jpg  \n",
            "  inflating: Dataset/Train/grey/gry_train_47.jpg  \n",
            "  inflating: Dataset/Train/grey/gry_train_46.jpg  \n",
            "  inflating: Dataset/Train/grey/gry_train_4.jpg  \n",
            "  inflating: Dataset/Train/grey/gry_train_43.jpg  \n",
            "  inflating: Dataset/Train/grey/gry_train_44.jpg  \n",
            "  inflating: Dataset/Train/grey/gry_train_41.jpg  \n",
            "  inflating: Dataset/Train/grey/gry_train_42.jpg  \n",
            "  inflating: Dataset/Train/grey/gry_train_48.jpg  \n",
            "  inflating: Dataset/Train/grey/gry_train_45.jpg  \n",
            "  inflating: Dataset/Train/grey/gry_train_49.jpg  \n",
            "  inflating: Dataset/Train/grey/gry_train_52.jpg  \n",
            "  inflating: Dataset/Train/grey/gry_train_5.jpg  \n",
            "  inflating: Dataset/Train/grey/gry_train_53.jpg  \n",
            "  inflating: Dataset/Train/grey/gry_train_54.jpg  \n",
            "  inflating: Dataset/Train/grey/gry_train_55.jpg  \n",
            "  inflating: Dataset/Train/grey/gry_train_57.jpg  \n",
            "  inflating: Dataset/Train/grey/gry_train_50.jpg  \n",
            "  inflating: Dataset/Train/grey/gry_train_56.jpg  \n",
            "  inflating: Dataset/Train/grey/gry_train_51.jpg  \n",
            "  inflating: Dataset/Train/grey/gry_train_6.jpg  \n",
            "  inflating: Dataset/Train/grey/gry_train_58.jpg  \n",
            "  inflating: Dataset/Train/grey/gry_train_61.jpg  \n",
            "  inflating: Dataset/Train/grey/gry_train_59.jpg  \n",
            "  inflating: Dataset/Train/grey/gry_train_60.jpg  \n",
            "  inflating: Dataset/Train/grey/gry_train_64.jpg  \n",
            "  inflating: Dataset/Train/grey/gry_train_62.jpg  \n",
            "  inflating: Dataset/Train/grey/gry_train_65.jpg  \n",
            "  inflating: Dataset/Train/grey/gry_train_63.jpg  \n",
            "  inflating: Dataset/Train/grey/gry_train_68.jpg  \n",
            "  inflating: Dataset/Train/grey/gry_train_69.jpg  \n",
            "  inflating: Dataset/Train/grey/gry_train_70.jpg  \n",
            "  inflating: Dataset/Train/grey/gry_train_67.jpg  \n",
            "  inflating: Dataset/Train/grey/gry_train_73.jpg  \n",
            "  inflating: Dataset/Train/grey/gry_train_72.jpg  \n",
            "  inflating: Dataset/Train/grey/gry_train_74.jpg  \n",
            "  inflating: Dataset/Train/grey/gry_train_7.jpg  \n",
            "  inflating: Dataset/Train/grey/gry_train_75.jpg  \n",
            "  inflating: Dataset/Train/grey/gry_train_71.jpg  \n",
            "  inflating: Dataset/Train/grey/gry_train_78.jpg  \n",
            "  inflating: Dataset/Train/grey/gry_train_76.jpg  \n",
            "  inflating: Dataset/Train/grey/gry_train_80.jpg  \n",
            "  inflating: Dataset/Train/grey/gry_train_83.jpg  \n",
            "  inflating: Dataset/Train/grey/gry_train_79.jpg  \n",
            "  inflating: Dataset/Train/grey/gry_train_82.jpg  \n",
            "  inflating: Dataset/Train/grey/gry_train_77.jpg  \n",
            "  inflating: Dataset/Train/grey/gry_train_81.jpg  \n",
            "  inflating: Dataset/Train/grey/gry_train_84.jpg  \n",
            "  inflating: Dataset/Train/grey/gry_train_8.jpg  \n",
            "  inflating: Dataset/Train/grey/gry_train_9.jpg  \n",
            "  inflating: Dataset/Train/grey/gry_train_90.jpg  \n",
            "  inflating: Dataset/Train/grey/gry_train_85.jpg  \n",
            "  inflating: Dataset/Train/grey/gry_train_92.jpg  \n",
            "  inflating: Dataset/Train/grey/gry_train_88.jpg  \n",
            "  inflating: Dataset/Train/grey/gry_train_93.jpg  \n",
            "  inflating: Dataset/Train/grey/gry_train_86.jpg  \n",
            "  inflating: Dataset/Train/grey/gry_train_91.jpg  \n",
            "  inflating: Dataset/Train/grey/gry_train_89.jpg  \n",
            "  inflating: Dataset/Train/grey/gry_train_87.jpg  \n",
            "  inflating: Dataset/Train/grey/gry_train_94.jpg  \n",
            "  inflating: Dataset/Train/grey/gry_train_96.jpg  \n",
            "  inflating: Dataset/Train/grey/gry_train_97.jpg  \n",
            "  inflating: Dataset/Train/grey/gry_train_99.jpg  \n",
            "  inflating: Dataset/Train/grey/gry_train_98.jpg  \n",
            "  inflating: Dataset/Train/grey/gry_train_95.jpg  \n",
            "   creating: Dataset/Train/color/\n",
            "  inflating: Dataset/Train/color/clr_train_43.jpg  \n",
            "  inflating: Dataset/Train/color/clr_train_95.jpg  \n",
            "  inflating: Dataset/Train/color/clr_train_10.jpg  \n",
            "  inflating: Dataset/Train/color/clr_train_101.jpg  \n",
            "  inflating: Dataset/Train/color/clr_train_102.jpg  \n",
            "  inflating: Dataset/Train/color/clr_train_1.jpg  \n",
            "  inflating: Dataset/Train/color/clr_train_100.jpg  \n",
            "  inflating: Dataset/Train/color/clr_train_59.jpg  \n",
            "  inflating: Dataset/Train/color/clr_train_107.jpg  \n",
            "  inflating: Dataset/Train/color/clr_train_109.jpg  \n",
            "  inflating: Dataset/Train/color/clr_train_110.jpg  \n",
            "  inflating: Dataset/Train/color/clr_train_105.jpg  \n",
            "  inflating: Dataset/Train/color/clr_train_12.jpg  \n",
            "  inflating: Dataset/Train/color/clr_train_108.jpg  \n",
            "  inflating: Dataset/Train/color/clr_train_104.jpg  \n",
            "  inflating: Dataset/Train/color/clr_train_103.jpg  \n",
            "  inflating: Dataset/Train/color/clr_train_11.jpg  \n",
            "  inflating: Dataset/Train/color/clr_train_106.jpg  \n",
            "  inflating: Dataset/Train/color/clr_train_17.jpg  \n",
            "  inflating: Dataset/Train/color/clr_train_16.jpg  \n",
            "  inflating: Dataset/Train/color/clr_train_13.jpg  \n",
            "  inflating: Dataset/Train/color/clr_train_2.jpg  \n",
            "  inflating: Dataset/Train/color/clr_train_14.jpg  \n",
            "  inflating: Dataset/Train/color/clr_train_19.jpg  \n",
            "  inflating: Dataset/Train/color/clr_train_15.jpg  \n",
            "  inflating: Dataset/Train/color/clr_train_18.jpg  \n",
            "  inflating: Dataset/Train/color/clr_train_21.jpg  \n",
            "  inflating: Dataset/Train/color/clr_train_20.jpg  \n",
            "  inflating: Dataset/Train/color/clr_train_24.jpg  \n",
            "  inflating: Dataset/Train/color/clr_train_29.jpg  \n",
            "  inflating: Dataset/Train/color/clr_train_25.jpg  \n",
            "  inflating: Dataset/Train/color/clr_train_23.jpg  \n",
            "  inflating: Dataset/Train/color/clr_train_22.jpg  \n",
            "  inflating: Dataset/Train/color/clr_train_26.jpg  \n",
            "  inflating: Dataset/Train/color/clr_train_30.jpg  \n",
            "  inflating: Dataset/Train/color/clr_train_3.jpg  \n",
            "  inflating: Dataset/Train/color/clr_train_27.jpg  \n",
            "  inflating: Dataset/Train/color/clr_train_28.jpg  \n",
            "  inflating: Dataset/Train/color/clr_train_38.jpg  \n",
            "  inflating: Dataset/Train/color/clr_train_35.jpg  \n",
            "  inflating: Dataset/Train/color/clr_train_33.jpg  \n",
            "  inflating: Dataset/Train/color/clr_train_36.jpg  \n",
            "  inflating: Dataset/Train/color/clr_train_4.jpg  \n",
            "  inflating: Dataset/Train/color/clr_train_39.jpg  \n",
            "  inflating: Dataset/Train/color/clr_train_31.jpg  \n",
            "  inflating: Dataset/Train/color/clr_train_37.jpg  \n",
            "  inflating: Dataset/Train/color/clr_train_32.jpg  \n",
            "  inflating: Dataset/Train/color/clr_train_34.jpg  \n",
            "  inflating: Dataset/Train/color/clr_train_40.jpg  \n",
            "  inflating: Dataset/Train/color/clr_train_41.jpg  \n",
            "  inflating: Dataset/Train/color/clr_train_45.jpg  \n",
            "  inflating: Dataset/Train/color/clr_train_42.jpg  \n",
            "  inflating: Dataset/Train/color/clr_train_48.jpg  \n",
            "  inflating: Dataset/Train/color/clr_train_44.jpg  \n",
            "  inflating: Dataset/Train/color/clr_train_47.jpg  \n",
            "  inflating: Dataset/Train/color/clr_train_49.jpg  \n",
            "  inflating: Dataset/Train/color/clr_train_46.jpg  \n",
            "  inflating: Dataset/Train/color/clr_train_55.jpg  \n",
            "  inflating: Dataset/Train/color/clr_train_52.jpg  \n",
            "  inflating: Dataset/Train/color/clr_train_5.jpg  \n",
            "  inflating: Dataset/Train/color/clr_train_50.jpg  \n",
            "  inflating: Dataset/Train/color/clr_train_54.jpg  \n",
            "  inflating: Dataset/Train/color/clr_train_56.jpg  \n",
            "  inflating: Dataset/Train/color/clr_train_57.jpg  \n",
            "  inflating: Dataset/Train/color/clr_train_58.jpg  \n",
            "  inflating: Dataset/Train/color/clr_train_51.jpg  \n",
            "  inflating: Dataset/Train/color/clr_train_53.jpg  \n",
            "  inflating: Dataset/Train/color/clr_train_6.jpg  \n",
            "  inflating: Dataset/Train/color/clr_train_71.jpg  \n",
            "  inflating: Dataset/Train/color/clr_train_63.jpg  \n",
            "  inflating: Dataset/Train/color/clr_train_64.jpg  \n",
            "  inflating: Dataset/Train/color/clr_train_60.jpg  \n",
            "  inflating: Dataset/Train/color/clr_train_67.jpg  \n",
            "  inflating: Dataset/Train/color/clr_train_66.jpg  \n",
            "  inflating: Dataset/Train/color/clr_train_65.jpg  \n",
            "  inflating: Dataset/Train/color/clr_train_62.jpg  \n",
            "  inflating: Dataset/Train/color/clr_train_61.jpg  \n",
            "  inflating: Dataset/Train/color/clr_train_75.jpg  \n",
            "  inflating: Dataset/Train/color/clr_train_72.jpg  \n",
            "  inflating: Dataset/Train/color/clr_train_76.jpg  \n",
            "  inflating: Dataset/Train/color/clr_train_70.jpg  \n",
            "  inflating: Dataset/Train/color/clr_train_74.jpg  \n",
            "  inflating: Dataset/Train/color/clr_train_69.jpg  \n",
            "  inflating: Dataset/Train/color/clr_train_73.jpg  \n",
            "  inflating: Dataset/Train/color/clr_train_7.jpg  \n",
            "  inflating: Dataset/Train/color/clr_train_68.jpg  \n",
            "  inflating: Dataset/Train/color/clr_train_8.jpg  \n",
            "  inflating: Dataset/Train/color/clr_train_79.jpg  \n",
            "  inflating: Dataset/Train/color/clr_train_82.jpg  \n",
            "  inflating: Dataset/Train/color/clr_train_78.jpg  \n",
            "  inflating: Dataset/Train/color/clr_train_83.jpg  \n",
            "  inflating: Dataset/Train/color/clr_train_85.jpg  \n",
            "  inflating: Dataset/Train/color/clr_train_84.jpg  \n",
            "  inflating: Dataset/Train/color/clr_train_77.jpg  \n",
            "  inflating: Dataset/Train/color/clr_train_81.jpg  \n",
            "  inflating: Dataset/Train/color/clr_train_80.jpg  \n",
            "  inflating: Dataset/Train/color/clr_train_88.jpg  \n",
            "  inflating: Dataset/Train/color/clr_train_94.jpg  \n",
            "  inflating: Dataset/Train/color/clr_train_92.jpg  \n",
            "  inflating: Dataset/Train/color/clr_train_9.jpg  \n",
            "  inflating: Dataset/Train/color/clr_train_86.jpg  \n",
            "  inflating: Dataset/Train/color/clr_train_91.jpg  \n",
            "  inflating: Dataset/Train/color/clr_train_90.jpg  \n",
            "  inflating: Dataset/Train/color/clr_train_89.jpg  \n",
            "  inflating: Dataset/Train/color/clr_train_87.jpg  \n",
            "  inflating: Dataset/Train/color/clr_train_93.jpg  \n",
            "  inflating: Dataset/Train/color/clr_train_99.jpg  \n",
            "  inflating: Dataset/Train/color/clr_train_97.jpg  \n",
            "  inflating: Dataset/Train/color/clr_train_96.jpg  \n",
            "  inflating: Dataset/Train/color/clr_train_98.jpg  \n",
            "   creating: Dataset/Test/grey/\n",
            "  inflating: Dataset/Test/grey/gry_test_13.jpg  \n",
            "  inflating: Dataset/Test/grey/gry_test_11.jpg  \n",
            "  inflating: Dataset/Test/grey/gry_test_15.jpg  \n",
            "  inflating: Dataset/Test/grey/gry_test_10.jpg  \n",
            "  inflating: Dataset/Test/grey/gry_test_16.jpg  \n",
            "  inflating: Dataset/Test/grey/gry_test_14.jpg  \n",
            "  inflating: Dataset/Test/grey/gry_test_12.jpg  \n",
            "  inflating: Dataset/Test/grey/gry_test_1.jpg  \n",
            "  inflating: Dataset/Test/grey/gry_test_19.jpg  \n",
            "  inflating: Dataset/Test/grey/gry_test_18.jpg  \n",
            "  inflating: Dataset/Test/grey/gry_test_20.jpg  \n",
            "  inflating: Dataset/Test/grey/gry_test_17.jpg  \n",
            "  inflating: Dataset/Test/grey/gry_test_21.jpg  \n",
            "  inflating: Dataset/Test/grey/gry_test_2.jpg  \n",
            "  inflating: Dataset/Test/grey/gry_test_22.jpg  \n",
            "  inflating: Dataset/Test/grey/gry_test_4.jpg  \n",
            "  inflating: Dataset/Test/grey/gry_test_23.jpg  \n",
            "  inflating: Dataset/Test/grey/gry_test_3.jpg  \n",
            "  inflating: Dataset/Test/grey/gry_test_8.jpg  \n",
            "  inflating: Dataset/Test/grey/gry_test_7.jpg  \n",
            "  inflating: Dataset/Test/grey/gry_test_9.jpg  \n",
            "  inflating: Dataset/Test/grey/gry_test_6.jpg  \n",
            "  inflating: Dataset/Test/grey/gry_test_5.jpg  \n",
            "   creating: Dataset/Test/color/\n",
            "  inflating: Dataset/Test/color/clr_test_14.jpg  \n",
            "  inflating: Dataset/Test/color/clr_test_1.jpg  \n",
            "  inflating: Dataset/Test/color/clr_test_18.jpg  \n",
            "  inflating: Dataset/Test/color/clr_test_10.jpg  \n",
            "  inflating: Dataset/Test/color/clr_test_12.jpg  \n",
            "  inflating: Dataset/Test/color/clr_test_16.jpg  \n",
            "  inflating: Dataset/Test/color/clr_test_15.jpg  \n",
            "  inflating: Dataset/Test/color/clr_test_13.jpg  \n",
            "  inflating: Dataset/Test/color/clr_test_11.jpg  \n",
            "  inflating: Dataset/Test/color/clr_test_17.jpg  \n",
            "  inflating: Dataset/Test/color/clr_test_19.jpg  \n",
            "  inflating: Dataset/Test/color/clr_test_20.jpg  \n",
            "  inflating: Dataset/Test/color/clr_test_21.jpg  \n",
            "  inflating: Dataset/Test/color/clr_test_7.jpg  \n",
            "  inflating: Dataset/Test/color/clr_test_4.jpg  \n",
            "  inflating: Dataset/Test/color/clr_test_22.jpg  \n",
            "  inflating: Dataset/Test/color/clr_test_5.jpg  \n",
            "  inflating: Dataset/Test/color/clr_test_2.jpg  \n",
            "  inflating: Dataset/Test/color/clr_test_6.jpg  \n",
            "  inflating: Dataset/Test/color/clr_test_3.jpg  \n",
            "  inflating: Dataset/Test/color/clr_test_8.jpg  \n",
            "  inflating: Dataset/Test/color/clr_test_9.jpg  \n",
            "   creating: Use Case 1/\n",
            "   creating: Use Case 1/Normal Images/\n",
            "  inflating: Use Case 1/Normal Images/_DS_Store  \n",
            "   creating: Use Case 1/Challenging Images/\n",
            "  inflating: Use Case 1/Challenging Images/_DS_Store  \n",
            "   creating: Use Case 1/Normal Images/grey/\n",
            "  inflating: Use Case 1/Normal Images/grey/10BHQXFBPX4_30_20180211T024028376Z.jpg  \n",
            "  inflating: Use Case 1/Normal Images/grey/10BHRCD56CJ_20_20180306T091656486Z.jpg  \n",
            "  inflating: Use Case 1/Normal Images/grey/10BHWTD2G2D_20_20180316T173955683Z.jpg  \n",
            "  inflating: Use Case 1/Normal Images/grey/10BJC86SH4K_20_20180121T194651121Z.jpg  \n",
            "  inflating: Use Case 1/Normal Images/grey/10BK4BK61M7_20_20180123T141020265Z.jpg  \n",
            "   creating: Use Case 1/Normal Images/color/\n",
            "  inflating: Use Case 1/Normal Images/color/1001LX28B8J_20_20180329T234750046Z.jpg  \n",
            "  inflating: Use Case 1/Normal Images/color/1001DKR7X0Z_20_20180319T122901351Z.jpg  \n",
            "  inflating: Use Case 1/Normal Images/color/1001XP8S294_20_20180405T101212553Z.jpg  \n",
            "  inflating: Use Case 1/Normal Images/color/1001Q0VC99T_30_20180326T061833212Z.jpg  \n",
            "  inflating: Use Case 1/Normal Images/color/1004N380PLH_20_20180321T205807476Z.jpg  \n",
            "   creating: Use Case 1/Challenging Images/color/\n",
            "  inflating: Use Case 1/Challenging Images/color/10025WHJ6D6_20_20180418T194951778Z.jpg  \n",
            "  inflating: Use Case 1/Challenging Images/color/1004SBD307T_30_20180410T193629403Z.jpg  \n",
            "  inflating: Use Case 1/Challenging Images/color/1004ZMXWV1P_20_20180423T152558538Z.jpg  \n",
            "  inflating: Use Case 1/Challenging Images/color/100BG60S6BC_20_20171215T205849881Z.jpg  \n",
            "  inflating: Use Case 1/Challenging Images/color/10082NMSJJ4_30_20171220T044246956Z.jpg  \n",
            "  inflating: Use Case 1/Challenging Images/color/100BN55HNPF_30_20180223T051516319Z.jpg  \n",
            "  inflating: Use Case 1/Challenging Images/color/1003MKX9D9V_30_20180125T145655409Z.jpg  \n",
            "  inflating: Use Case 1/Challenging Images/color/10090PV22C0_20_20180401T142222308Z.jpg  \n",
            "   creating: Use Case 1/Challenging Images/grey/\n",
            "  inflating: Use Case 1/Challenging Images/grey/1008RPKG3Z8_20_20180406T101501235Z.jpg  \n",
            "  inflating: Use Case 1/Challenging Images/grey/10JR9HB7VZB_20_20180524T151938021Z.jpg  \n"
          ],
          "name": "stdout"
        }
      ]
    },
    {
      "metadata": {
        "id": "9IHfX5xfkiSx",
        "colab_type": "code",
        "colab": {}
      },
      "cell_type": "code",
      "source": [
        "# !unzip Image_Processing.zip\n",
        "# !mv Use\\ Case\\ 1 UseCase1\n",
        "# !mv UseCase1/Challenging\\ Images UseCase1/ChallengingImages\n",
        "!mv UseCase1/Normal\\ Images UseCase1/NormalImages\n"
      ],
      "execution_count": 0,
      "outputs": []
    },
    {
      "metadata": {
        "id": "bidid1w9lmXl",
        "colab_type": "code",
        "colab": {
          "base_uri": "https://localhost:8080/",
          "height": 34
        },
        "outputId": "8d53c049-7d53-4bf6-83dc-bca782e35ad4"
      },
      "cell_type": "code",
      "source": [
        "!ls"
      ],
      "execution_count": 2,
      "outputs": [
        {
          "output_type": "stream",
          "text": [
            "datalab  Dataset  Image_Processing.zip\tsample_data  UseCase1\r\n"
          ],
          "name": "stdout"
        }
      ]
    },
    {
      "metadata": {
        "id": "yDNyIMM0lts-",
        "colab_type": "code",
        "colab": {}
      },
      "cell_type": "code",
      "source": [
        "from matplotlib import pyplot as plt\n",
        "from matplotlib import image as mpimg\n",
        "import numpy as np\n",
        "import argparse\n",
        "import math\n",
        "import cv2\n",
        "from sklearn import svm\n",
        "import glob\n",
        "from skimage.transform import  resize\n",
        "import pickle\n",
        "%matplotlib inline"
      ],
      "execution_count": 0,
      "outputs": []
    },
    {
      "metadata": {
        "id": "jYORY92-7U-r",
        "colab_type": "code",
        "colab": {}
      },
      "cell_type": "code",
      "source": [
        "from sklearn.ensemble import BaggingClassifier\n",
        "from sklearn.ensemble import AdaBoostClassifier ,ExtraTreesClassifier\n",
        "from sklearn.neighbors import KNeighborsClassifier\n",
        "from sklearn.ensemble import RandomForestClassifier"
      ],
      "execution_count": 0,
      "outputs": []
    },
    {
      "metadata": {
        "id": "pkhX5gsypZb-",
        "colab_type": "code",
        "colab": {}
      },
      "cell_type": "code",
      "source": [
        "path='Dataset/'\n",
        "challenge='UseCase1/ChallengingImages/'\n",
        "normal = 'UseCase1/NormalImages/'\n",
        "\n",
        "color_train = path + 'Train/color/*.jpg'\n",
        "grey_train  = path + 'Train/grey/*.jpg'\n",
        "\n",
        "color_test  = path + 'Test/color/*.jpg'\n",
        "grey_test  = path + 'Test/grey/*.jpg'\n",
        "\n",
        "challenge_color = challenge + 'color/*.jpg'\n",
        "challenge_grey = challenge + 'grey/*.jpg'\n",
        "\n",
        "normal_color = normal + 'color/*.jpg'\n",
        "normal_grey = normal + 'grey/*.jpg'\n",
        "\n",
        "\n",
        "color_train_images_path = glob.glob(color_train)\n",
        "grey_train_images_path = glob.glob(grey_train)\n",
        "\n",
        "color_test_images_path = glob.glob(color_test)\n",
        "grey_test_images_path = glob.glob(grey_test)\n",
        "\n",
        "color_challenge_images_path = glob.glob(challenge_color)\n",
        "grey_challenge_images_path = glob.glob(challenge_grey)\n",
        "\n",
        "color_normal_images_path = glob.glob(normal_color)\n",
        "grey_normal_images_path = glob.glob(normal_grey)"
      ],
      "execution_count": 0,
      "outputs": []
    },
    {
      "metadata": {
        "id": "ecLO_tTc73Wm",
        "colab_type": "code",
        "colab": {}
      },
      "cell_type": "code",
      "source": [
        "def get(data):\n",
        "    avgs = sum(data)/3\n",
        "    temp = 0\n",
        "    for i in data:\n",
        "        temp += math.pow(avgs-i,2)\n",
        "    return math.sqrt(temp)\n",
        "\n",
        "def getSubtract(data):\n",
        "    tempimg=np.zeros((data.shape[0],data.shape[1]), dtype=np.uint8)\n",
        "    for i in range(data.shape[0]):\n",
        "        for j in range(data.shape[1]):\n",
        "            tempimg[i][j] = get(data[i][j])\n",
        "    return tempimg"
      ],
      "execution_count": 0,
      "outputs": []
    },
    {
      "metadata": {
        "id": "Q76qKMmGpfNI",
        "colab_type": "code",
        "colab": {}
      },
      "cell_type": "code",
      "source": [
        "def pre_processing(img,size=(128,128,3)):\n",
        "#     x,y,_ = img.shape\n",
        "#     if x<size[0] or y<size[1]:\n",
        "#         pass\n",
        "#     else:\n",
        "#         img = resize(img,size,preserve_range=True).astype(np.uint8)\n",
        "    #img = resize(img,size,preserve_range=True).astype(np.uint8)\n",
        "    temp= getSubtract(img)\n",
        "    hist,_=np.histogram(temp.reshape((-1)))\n",
        "#     mu = np.mean(temp)\n",
        "#     temp = temp - mu\n",
        "#     minvalue = np.min(temp)\n",
        "#     flatten = temp.reshape((-1))\n",
        "#    if x<size[0] or y<size[1]:\n",
        "#         dif_x = size[0]-x\n",
        "#         if dif_x==0:\n",
        "#             dif_x=1\n",
        "#         dif_y= size[1]-y\n",
        "#         if dif_y==0:\n",
        "#             dif_y=1\n",
        "#         pad=np.zeros(128*128-flatten.shape[0])\n",
        "#         flatten=np.append(flatten,pad)\n",
        "    #hist,_=np.histogram(flatten,np.arange(0,250,0.5)-minvalue)\n",
        "    return hist"
      ],
      "execution_count": 0,
      "outputs": []
    },
    {
      "metadata": {
        "id": "9J1fPrek8YjB",
        "colab_type": "code",
        "colab": {
          "base_uri": "https://localhost:8080/",
          "height": 3604
        },
        "outputId": "bafaf037-2875-4f83-de8e-49e410f03e50"
      },
      "cell_type": "code",
      "source": [
        "X = []\n",
        "Y = []\n",
        "for img_path in color_train_images_path:\n",
        "    print(img_path)\n",
        "    img= mpimg.imread(img_path)\n",
        "    img=pre_processing(img)\n",
        "    X.append(img)\n",
        "    Y.append(1)\n",
        "for img_path in grey_train_images_path:\n",
        "    print(img_path)\n",
        "    img= mpimg.imread(img_path)\n",
        "    img=pre_processing(img)\n",
        "    X.append(img)\n",
        "    Y.append(0)\n",
        " "
      ],
      "execution_count": 8,
      "outputs": [
        {
          "output_type": "stream",
          "text": [
            "Dataset/Train/color/clr_train_1.jpg\n",
            "Dataset/Train/color/clr_train_79.jpg\n",
            "Dataset/Train/color/clr_train_47.jpg\n",
            "Dataset/Train/color/clr_train_75.jpg\n",
            "Dataset/Train/color/clr_train_65.jpg\n",
            "Dataset/Train/color/clr_train_98.jpg\n",
            "Dataset/Train/color/clr_train_84.jpg\n",
            "Dataset/Train/color/clr_train_9.jpg\n",
            "Dataset/Train/color/clr_train_59.jpg\n",
            "Dataset/Train/color/clr_train_97.jpg\n",
            "Dataset/Train/color/clr_train_91.jpg\n",
            "Dataset/Train/color/clr_train_108.jpg\n",
            "Dataset/Train/color/clr_train_50.jpg\n",
            "Dataset/Train/color/clr_train_19.jpg\n",
            "Dataset/Train/color/clr_train_95.jpg\n",
            "Dataset/Train/color/clr_train_90.jpg\n",
            "Dataset/Train/color/clr_train_31.jpg\n",
            "Dataset/Train/color/clr_train_48.jpg\n",
            "Dataset/Train/color/clr_train_83.jpg\n",
            "Dataset/Train/color/clr_train_70.jpg\n",
            "Dataset/Train/color/clr_train_101.jpg\n",
            "Dataset/Train/color/clr_train_2.jpg\n",
            "Dataset/Train/color/clr_train_39.jpg\n",
            "Dataset/Train/color/clr_train_86.jpg\n",
            "Dataset/Train/color/clr_train_33.jpg\n",
            "Dataset/Train/color/clr_train_81.jpg\n",
            "Dataset/Train/color/clr_train_37.jpg\n",
            "Dataset/Train/color/clr_train_66.jpg\n",
            "Dataset/Train/color/clr_train_56.jpg\n",
            "Dataset/Train/color/clr_train_5.jpg\n",
            "Dataset/Train/color/clr_train_24.jpg\n",
            "Dataset/Train/color/clr_train_45.jpg\n",
            "Dataset/Train/color/clr_train_16.jpg\n",
            "Dataset/Train/color/clr_train_14.jpg\n",
            "Dataset/Train/color/clr_train_77.jpg\n",
            "Dataset/Train/color/clr_train_63.jpg\n",
            "Dataset/Train/color/clr_train_42.jpg\n",
            "Dataset/Train/color/clr_train_30.jpg\n",
            "Dataset/Train/color/clr_train_71.jpg\n",
            "Dataset/Train/color/clr_train_51.jpg\n",
            "Dataset/Train/color/clr_train_8.jpg\n",
            "Dataset/Train/color/clr_train_102.jpg\n",
            "Dataset/Train/color/clr_train_12.jpg\n",
            "Dataset/Train/color/clr_train_41.jpg\n",
            "Dataset/Train/color/clr_train_61.jpg\n",
            "Dataset/Train/color/clr_train_106.jpg\n",
            "Dataset/Train/color/clr_train_88.jpg\n",
            "Dataset/Train/color/clr_train_11.jpg\n",
            "Dataset/Train/color/clr_train_22.jpg\n",
            "Dataset/Train/color/clr_train_76.jpg\n",
            "Dataset/Train/color/clr_train_49.jpg\n",
            "Dataset/Train/color/clr_train_29.jpg\n",
            "Dataset/Train/color/clr_train_67.jpg\n",
            "Dataset/Train/color/clr_train_104.jpg\n",
            "Dataset/Train/color/clr_train_4.jpg\n",
            "Dataset/Train/color/clr_train_58.jpg\n",
            "Dataset/Train/color/clr_train_107.jpg\n",
            "Dataset/Train/color/clr_train_54.jpg\n",
            "Dataset/Train/color/clr_train_27.jpg\n",
            "Dataset/Train/color/clr_train_74.jpg\n",
            "Dataset/Train/color/clr_train_85.jpg\n",
            "Dataset/Train/color/clr_train_35.jpg\n",
            "Dataset/Train/color/clr_train_34.jpg\n",
            "Dataset/Train/color/clr_train_21.jpg\n",
            "Dataset/Train/color/clr_train_68.jpg\n",
            "Dataset/Train/color/clr_train_36.jpg\n",
            "Dataset/Train/color/clr_train_53.jpg\n",
            "Dataset/Train/color/clr_train_32.jpg\n",
            "Dataset/Train/color/clr_train_73.jpg\n",
            "Dataset/Train/color/clr_train_82.jpg\n",
            "Dataset/Train/color/clr_train_89.jpg\n",
            "Dataset/Train/color/clr_train_52.jpg\n",
            "Dataset/Train/color/clr_train_15.jpg\n",
            "Dataset/Train/color/clr_train_10.jpg\n",
            "Dataset/Train/color/clr_train_25.jpg\n",
            "Dataset/Train/color/clr_train_60.jpg\n",
            "Dataset/Train/color/clr_train_103.jpg\n",
            "Dataset/Train/color/clr_train_57.jpg\n",
            "Dataset/Train/color/clr_train_44.jpg\n",
            "Dataset/Train/color/clr_train_99.jpg\n",
            "Dataset/Train/color/clr_train_96.jpg\n",
            "Dataset/Train/color/clr_train_3.jpg\n",
            "Dataset/Train/color/clr_train_109.jpg\n",
            "Dataset/Train/color/clr_train_87.jpg\n",
            "Dataset/Train/color/clr_train_100.jpg\n",
            "Dataset/Train/color/clr_train_38.jpg\n",
            "Dataset/Train/color/clr_train_78.jpg\n",
            "Dataset/Train/color/clr_train_94.jpg\n",
            "Dataset/Train/color/clr_train_18.jpg\n",
            "Dataset/Train/color/clr_train_55.jpg\n",
            "Dataset/Train/color/clr_train_7.jpg\n",
            "Dataset/Train/color/clr_train_62.jpg\n",
            "Dataset/Train/color/clr_train_64.jpg\n",
            "Dataset/Train/color/clr_train_72.jpg\n",
            "Dataset/Train/color/clr_train_6.jpg\n",
            "Dataset/Train/color/clr_train_20.jpg\n",
            "Dataset/Train/color/clr_train_105.jpg\n",
            "Dataset/Train/color/clr_train_13.jpg\n",
            "Dataset/Train/color/clr_train_43.jpg\n",
            "Dataset/Train/color/clr_train_26.jpg\n",
            "Dataset/Train/color/clr_train_40.jpg\n",
            "Dataset/Train/color/clr_train_92.jpg\n",
            "Dataset/Train/color/clr_train_93.jpg\n",
            "Dataset/Train/color/clr_train_23.jpg\n",
            "Dataset/Train/color/clr_train_28.jpg\n",
            "Dataset/Train/color/clr_train_110.jpg\n",
            "Dataset/Train/color/clr_train_17.jpg\n",
            "Dataset/Train/color/clr_train_80.jpg\n",
            "Dataset/Train/color/clr_train_69.jpg\n",
            "Dataset/Train/color/clr_train_46.jpg\n",
            "Dataset/Train/grey/gry_train_22.jpg\n",
            "Dataset/Train/grey/gry_train_79.jpg\n",
            "Dataset/Train/grey/gry_train_99.jpg\n",
            "Dataset/Train/grey/gry_train_21.jpg\n",
            "Dataset/Train/grey/gry_train_62.jpg\n",
            "Dataset/Train/grey/gry_train_26.jpg\n",
            "Dataset/Train/grey/gry_train_88.jpg\n",
            "Dataset/Train/grey/gry_train_80.jpg\n",
            "Dataset/Train/grey/gry_train_58.jpg\n",
            "Dataset/Train/grey/gry_train_1.jpg\n",
            "Dataset/Train/grey/gry_train_35.jpg\n",
            "Dataset/Train/grey/gry_train_65.jpg\n",
            "Dataset/Train/grey/gry_train_66.jpg\n",
            "Dataset/Train/grey/gry_train_24.jpg\n",
            "Dataset/Train/grey/gry_train_70.jpg\n",
            "Dataset/Train/grey/gry_train_8.jpg\n",
            "Dataset/Train/grey/gry_train_56.jpg\n",
            "Dataset/Train/grey/gry_train_87.jpg\n",
            "Dataset/Train/grey/gry_train_3.jpg\n",
            "Dataset/Train/grey/gry_train_30.jpg\n",
            "Dataset/Train/grey/gry_train_73.jpg\n",
            "Dataset/Train/grey/gry_train_94.jpg\n",
            "Dataset/Train/grey/gry_train_13.jpg\n",
            "Dataset/Train/grey/gry_train_61.jpg\n",
            "Dataset/Train/grey/gry_train_84.jpg\n",
            "Dataset/Train/grey/gry_train_17.jpg\n",
            "Dataset/Train/grey/gry_train_49.jpg\n",
            "Dataset/Train/grey/gry_train_96.jpg\n",
            "Dataset/Train/grey/gry_train_53.jpg\n",
            "Dataset/Train/grey/gry_train_29.jpg\n",
            "Dataset/Train/grey/gry_train_69.jpg\n",
            "Dataset/Train/grey/gry_train_86.jpg\n",
            "Dataset/Train/grey/gry_train_5.jpg\n",
            "Dataset/Train/grey/gry_train_81.jpg\n",
            "Dataset/Train/grey/gry_train_15.jpg\n",
            "Dataset/Train/grey/gry_train_6.jpg\n",
            "Dataset/Train/grey/gry_train_32.jpg\n",
            "Dataset/Train/grey/gry_train_90.jpg\n",
            "Dataset/Train/grey/gry_train_39.jpg\n",
            "Dataset/Train/grey/gry_train_31.jpg\n",
            "Dataset/Train/grey/gry_train_74.jpg\n",
            "Dataset/Train/grey/gry_train_48.jpg\n",
            "Dataset/Train/grey/gry_train_25.jpg\n",
            "Dataset/Train/grey/gry_train_100.jpg\n",
            "Dataset/Train/grey/gry_train_23.jpg\n",
            "Dataset/Train/grey/gry_train_28.jpg\n",
            "Dataset/Train/grey/gry_train_57.jpg\n",
            "Dataset/Train/grey/gry_train_59.jpg\n",
            "Dataset/Train/grey/gry_train_4.jpg\n",
            "Dataset/Train/grey/gry_train_72.jpg\n",
            "Dataset/Train/grey/gry_train_54.jpg\n",
            "Dataset/Train/grey/gry_train_16.jpg\n",
            "Dataset/Train/grey/gry_train_95.jpg\n",
            "Dataset/Train/grey/gry_train_75.jpg\n",
            "Dataset/Train/grey/gry_train_33.jpg\n",
            "Dataset/Train/grey/gry_train_44.jpg\n",
            "Dataset/Train/grey/gry_train_43.jpg\n",
            "Dataset/Train/grey/gry_train_45.jpg\n",
            "Dataset/Train/grey/gry_train_51.jpg\n",
            "Dataset/Train/grey/gry_train_14.jpg\n",
            "Dataset/Train/grey/gry_train_82.jpg\n",
            "Dataset/Train/grey/gry_train_18.jpg\n",
            "Dataset/Train/grey/gry_train_97.jpg\n",
            "Dataset/Train/grey/gry_train_67.jpg\n",
            "Dataset/Train/grey/gry_train_19.jpg\n",
            "Dataset/Train/grey/gry_train_40.jpg\n",
            "Dataset/Train/grey/gry_train_89.jpg\n",
            "Dataset/Train/grey/gry_train_9.jpg\n",
            "Dataset/Train/grey/gry_train_27.jpg\n",
            "Dataset/Train/grey/gry_train_63.jpg\n",
            "Dataset/Train/grey/gry_train_11.jpg\n",
            "Dataset/Train/grey/gry_train_47.jpg\n",
            "Dataset/Train/grey/gry_train_36.jpg\n",
            "Dataset/Train/grey/gry_train_91.jpg\n",
            "Dataset/Train/grey/gry_train_64.jpg\n",
            "Dataset/Train/grey/gry_train_34.jpg\n",
            "Dataset/Train/grey/gry_train_50.jpg\n",
            "Dataset/Train/grey/gry_train_37.jpg\n",
            "Dataset/Train/grey/gry_train_85.jpg\n",
            "Dataset/Train/grey/gry_train_2.jpg\n",
            "Dataset/Train/grey/gry_train_55.jpg\n",
            "Dataset/Train/grey/gry_train_12.jpg\n",
            "Dataset/Train/grey/gry_train_98.jpg\n",
            "Dataset/Train/grey/gry_train_46.jpg\n",
            "Dataset/Train/grey/gry_train_71.jpg\n",
            "Dataset/Train/grey/gry_train_77.jpg\n",
            "Dataset/Train/grey/gry_train_7.jpg\n",
            "Dataset/Train/grey/gry_train_60.jpg\n",
            "Dataset/Train/grey/gry_train_52.jpg\n",
            "Dataset/Train/grey/gry_train_83.jpg\n",
            "Dataset/Train/grey/gry_train_93.jpg\n",
            "Dataset/Train/grey/gry_train_10.jpg\n",
            "Dataset/Train/grey/gry_train_76.jpg\n",
            "Dataset/Train/grey/gry_train_78.jpg\n",
            "Dataset/Train/grey/gry_train_101.jpg\n",
            "Dataset/Train/grey/gry_train_92.jpg\n",
            "Dataset/Train/grey/gry_train_20.jpg\n",
            "Dataset/Train/grey/gry_train_68.jpg\n",
            "Dataset/Train/grey/gry_train_41.jpg\n",
            "Dataset/Train/grey/gry_train_38.jpg\n",
            "Dataset/Train/grey/gry_train_42.jpg\n"
          ],
          "name": "stdout"
        }
      ]
    },
    {
      "metadata": {
        "id": "0R_0z9FJLArf",
        "colab_type": "code",
        "colab": {
          "base_uri": "https://localhost:8080/",
          "height": 816
        },
        "outputId": "fb0ded20-a840-49df-a40f-3e547a029a57"
      },
      "cell_type": "code",
      "source": [
        "Test_x = []\n",
        "for img_path in color_test_images_path:\n",
        "    print(img_path)\n",
        "    img= mpimg.imread(img_path)\n",
        "    img=pre_processing(img)\n",
        "    Test_x.append(img)\n",
        "print(len(Test_x))\n",
        "for img_path in grey_test_images_path:\n",
        "    print(img_path)\n",
        "    img= mpimg.imread(img_path)\n",
        "    img=pre_processing(img)\n",
        "    Test_x.append(img)\n",
        "print(len(Test_x))"
      ],
      "execution_count": 9,
      "outputs": [
        {
          "output_type": "stream",
          "text": [
            "Dataset/Test/color/clr_test_7.jpg\n",
            "Dataset/Test/color/clr_test_5.jpg\n",
            "Dataset/Test/color/clr_test_18.jpg\n",
            "Dataset/Test/color/clr_test_17.jpg\n",
            "Dataset/Test/color/clr_test_21.jpg\n",
            "Dataset/Test/color/clr_test_22.jpg\n",
            "Dataset/Test/color/clr_test_8.jpg\n",
            "Dataset/Test/color/clr_test_2.jpg\n",
            "Dataset/Test/color/clr_test_16.jpg\n",
            "Dataset/Test/color/clr_test_12.jpg\n",
            "Dataset/Test/color/clr_test_4.jpg\n",
            "Dataset/Test/color/clr_test_20.jpg\n",
            "Dataset/Test/color/clr_test_19.jpg\n",
            "Dataset/Test/color/clr_test_11.jpg\n",
            "Dataset/Test/color/clr_test_6.jpg\n",
            "Dataset/Test/color/clr_test_13.jpg\n",
            "Dataset/Test/color/clr_test_9.jpg\n",
            "Dataset/Test/color/clr_test_14.jpg\n",
            "Dataset/Test/color/clr_test_1.jpg\n",
            "Dataset/Test/color/clr_test_10.jpg\n",
            "Dataset/Test/color/clr_test_3.jpg\n",
            "Dataset/Test/color/clr_test_15.jpg\n",
            "22\n",
            "Dataset/Test/grey/gry_test_17.jpg\n",
            "Dataset/Test/grey/gry_test_18.jpg\n",
            "Dataset/Test/grey/gry_test_15.jpg\n",
            "Dataset/Test/grey/gry_test_3.jpg\n",
            "Dataset/Test/grey/gry_test_13.jpg\n",
            "Dataset/Test/grey/gry_test_20.jpg\n",
            "Dataset/Test/grey/gry_test_7.jpg\n",
            "Dataset/Test/grey/gry_test_16.jpg\n",
            "Dataset/Test/grey/gry_test_2.jpg\n",
            "Dataset/Test/grey/gry_test_9.jpg\n",
            "Dataset/Test/grey/gry_test_11.jpg\n",
            "Dataset/Test/grey/gry_test_12.jpg\n",
            "Dataset/Test/grey/gry_test_10.jpg\n",
            "Dataset/Test/grey/gry_test_8.jpg\n",
            "Dataset/Test/grey/gry_test_5.jpg\n",
            "Dataset/Test/grey/gry_test_14.jpg\n",
            "Dataset/Test/grey/gry_test_19.jpg\n",
            "Dataset/Test/grey/gry_test_23.jpg\n",
            "Dataset/Test/grey/gry_test_6.jpg\n",
            "Dataset/Test/grey/gry_test_21.jpg\n",
            "Dataset/Test/grey/gry_test_1.jpg\n",
            "Dataset/Test/grey/gry_test_22.jpg\n",
            "Dataset/Test/grey/gry_test_4.jpg\n",
            "45\n"
          ],
          "name": "stdout"
        }
      ]
    },
    {
      "metadata": {
        "id": "xcYYokfMLkQB",
        "colab_type": "code",
        "colab": {
          "base_uri": "https://localhost:8080/",
          "height": 221
        },
        "outputId": "ec7db2e0-6dd7-4c6a-c898-66e4a895b4af"
      },
      "cell_type": "code",
      "source": [
        "challenge_x = []\n",
        "for img_path in color_challenge_images_path:\n",
        "    print(img_path)\n",
        "    img= mpimg.imread(img_path)\n",
        "    img=pre_processing(img)\n",
        "    challenge_x.append(img)\n",
        "print(len(challenge_x))\n",
        "for img_path in grey_challenge_images_path:\n",
        "    print(img_path)\n",
        "    img= mpimg.imread(img_path)\n",
        "    img=pre_processing(img)\n",
        "    challenge_x.append(img)\n",
        "print(len(challenge_x))"
      ],
      "execution_count": 10,
      "outputs": [
        {
          "output_type": "stream",
          "text": [
            "UseCase1/ChallengingImages/color/10025WHJ6D6_20_20180418T194951778Z.jpg\n",
            "UseCase1/ChallengingImages/color/1004ZMXWV1P_20_20180423T152558538Z.jpg\n",
            "UseCase1/ChallengingImages/color/100BG60S6BC_20_20171215T205849881Z.jpg\n",
            "UseCase1/ChallengingImages/color/10090PV22C0_20_20180401T142222308Z.jpg\n",
            "UseCase1/ChallengingImages/color/1004SBD307T_30_20180410T193629403Z.jpg\n",
            "UseCase1/ChallengingImages/color/10082NMSJJ4_30_20171220T044246956Z.jpg\n",
            "UseCase1/ChallengingImages/color/1003MKX9D9V_30_20180125T145655409Z.jpg\n",
            "UseCase1/ChallengingImages/color/100BN55HNPF_30_20180223T051516319Z.jpg\n",
            "8\n",
            "UseCase1/ChallengingImages/grey/10JR9HB7VZB_20_20180524T151938021Z.jpg\n",
            "UseCase1/ChallengingImages/grey/1008RPKG3Z8_20_20180406T101501235Z.jpg\n",
            "10\n"
          ],
          "name": "stdout"
        }
      ]
    },
    {
      "metadata": {
        "id": "nJrHpBAndvLo",
        "colab_type": "code",
        "colab": {
          "base_uri": "https://localhost:8080/",
          "height": 221
        },
        "outputId": "328b426d-79e4-4b17-9a50-e5efd48eb391"
      },
      "cell_type": "code",
      "source": [
        "normal_x = []\n",
        "for img_path in color_normal_images_path:\n",
        "    print(img_path)\n",
        "    img= mpimg.imread(img_path)\n",
        "    img=pre_processing(img)\n",
        "    normal_x.append(img)\n",
        "print(len(normal_x))\n",
        "for img_path in grey_normal_images_path:\n",
        "    print(img_path)\n",
        "    img= mpimg.imread(img_path)\n",
        "    img=pre_processing(img)\n",
        "    normal_x.append(img)\n",
        "print(len(normal_x))"
      ],
      "execution_count": 17,
      "outputs": [
        {
          "output_type": "stream",
          "text": [
            "UseCase1/NormalImages/color/1001Q0VC99T_30_20180326T061833212Z.jpg\n",
            "UseCase1/NormalImages/color/1001LX28B8J_20_20180329T234750046Z.jpg\n",
            "UseCase1/NormalImages/color/1001XP8S294_20_20180405T101212553Z.jpg\n",
            "UseCase1/NormalImages/color/1004N380PLH_20_20180321T205807476Z.jpg\n",
            "UseCase1/NormalImages/color/1001DKR7X0Z_20_20180319T122901351Z.jpg\n",
            "5\n",
            "UseCase1/NormalImages/grey/10BJC86SH4K_20_20180121T194651121Z.jpg\n",
            "UseCase1/NormalImages/grey/10BHQXFBPX4_30_20180211T024028376Z.jpg\n",
            "UseCase1/NormalImages/grey/10BHRCD56CJ_20_20180306T091656486Z.jpg\n",
            "UseCase1/NormalImages/grey/10BHWTD2G2D_20_20180316T173955683Z.jpg\n",
            "UseCase1/NormalImages/grey/10BK4BK61M7_20_20180123T141020265Z.jpg\n",
            "10\n"
          ],
          "name": "stdout"
        }
      ]
    },
    {
      "metadata": {
        "id": "qwzmA1bwaWdQ",
        "colab_type": "code",
        "colab": {}
      },
      "cell_type": "code",
      "source": [
        "clf = RandomForestClassifier(n_estimators=2000)\n",
        "clf = clf.fit(X, Y)"
      ],
      "execution_count": 0,
      "outputs": []
    },
    {
      "metadata": {
        "id": "EUWBnKLuKa3l",
        "colab_type": "code",
        "colab": {
          "base_uri": "https://localhost:8080/",
          "height": 34
        },
        "outputId": "b15882aa-d489-4230-954a-b30587f96682"
      },
      "cell_type": "code",
      "source": [
        "FalseCount = 0\n",
        "TotalCount = len(color_train_images_path)\n",
        "for timg in X[:110]:\n",
        "    if clf.predict([timg]) == [0]:\n",
        "        FalseCount +=1\n",
        "FalseCount,TotalCount"
      ],
      "execution_count": 19,
      "outputs": [
        {
          "output_type": "execute_result",
          "data": {
            "text/plain": [
              "(0, 110)"
            ]
          },
          "metadata": {
            "tags": []
          },
          "execution_count": 19
        }
      ]
    },
    {
      "metadata": {
        "id": "KDzwczWFKsdO",
        "colab_type": "code",
        "colab": {
          "base_uri": "https://localhost:8080/",
          "height": 34
        },
        "outputId": "0183fd28-c1ca-4764-822e-235862e8552f"
      },
      "cell_type": "code",
      "source": [
        "FalseCount = 0\n",
        "TotalCount = len(grey_train_images_path)\n",
        "for timg in X[110:]:\n",
        "    if clf.predict([timg]) == [1]:\n",
        "        FalseCount +=1\n",
        "FalseCount,TotalCount"
      ],
      "execution_count": 20,
      "outputs": [
        {
          "output_type": "execute_result",
          "data": {
            "text/plain": [
              "(0, 101)"
            ]
          },
          "metadata": {
            "tags": []
          },
          "execution_count": 20
        }
      ]
    },
    {
      "metadata": {
        "id": "RGmlY6X2K8NO",
        "colab_type": "code",
        "colab": {
          "base_uri": "https://localhost:8080/",
          "height": 34
        },
        "outputId": "2833ab90-6681-4179-862e-82e001b1d10c"
      },
      "cell_type": "code",
      "source": [
        "FalseCount = 0\n",
        "TotalCount = len(color_test_images_path)\n",
        "for timg in Test_x[:22]:\n",
        "    if clf.predict([timg]) == [0]:\n",
        "        FalseCount +=1\n",
        "FalseCount,TotalCount"
      ],
      "execution_count": 21,
      "outputs": [
        {
          "output_type": "execute_result",
          "data": {
            "text/plain": [
              "(3, 22)"
            ]
          },
          "metadata": {
            "tags": []
          },
          "execution_count": 21
        }
      ]
    },
    {
      "metadata": {
        "id": "dmOOESTNMMou",
        "colab_type": "code",
        "colab": {
          "base_uri": "https://localhost:8080/",
          "height": 34
        },
        "outputId": "34c94dbf-9844-4d97-a29f-bd1d939fc5e7"
      },
      "cell_type": "code",
      "source": [
        "FalseCount = 0\n",
        "TotalCount = len(grey_test_images_path)\n",
        "for timg in Test_x[22:]:\n",
        "    if clf.predict([timg]) == [1]:\n",
        "        FalseCount +=1\n",
        "FalseCount,TotalCount"
      ],
      "execution_count": 22,
      "outputs": [
        {
          "output_type": "execute_result",
          "data": {
            "text/plain": [
              "(3, 23)"
            ]
          },
          "metadata": {
            "tags": []
          },
          "execution_count": 22
        }
      ]
    },
    {
      "metadata": {
        "id": "J_K-nd_SUFRk",
        "colab_type": "code",
        "colab": {
          "base_uri": "https://localhost:8080/",
          "height": 34
        },
        "outputId": "409a88c2-820d-4989-f974-f1721e65f004"
      },
      "cell_type": "code",
      "source": [
        "FalseCount = 0\n",
        "TotalCount = 8\n",
        "for timg in challenge_x[:8]:\n",
        "    if clf.predict([timg]) == [0]:\n",
        "        FalseCount +=1\n",
        "FalseCount,TotalCount"
      ],
      "execution_count": 23,
      "outputs": [
        {
          "output_type": "execute_result",
          "data": {
            "text/plain": [
              "(0, 8)"
            ]
          },
          "metadata": {
            "tags": []
          },
          "execution_count": 23
        }
      ]
    },
    {
      "metadata": {
        "id": "lOPvkVb9UObn",
        "colab_type": "code",
        "colab": {
          "base_uri": "https://localhost:8080/",
          "height": 34
        },
        "outputId": "26efd83a-2d8a-47bd-ab8f-ec510e8f3d8f"
      },
      "cell_type": "code",
      "source": [
        "FalseCount = 0\n",
        "TotalCount = 2\n",
        "for timg in challenge_x[8:]:\n",
        "    if clf.predict([timg]) == [1]:\n",
        "        FalseCount +=1\n",
        "FalseCount,TotalCount"
      ],
      "execution_count": 24,
      "outputs": [
        {
          "output_type": "execute_result",
          "data": {
            "text/plain": [
              "(0, 2)"
            ]
          },
          "metadata": {
            "tags": []
          },
          "execution_count": 24
        }
      ]
    },
    {
      "metadata": {
        "id": "f2nD6PUoDfBU",
        "colab_type": "code",
        "colab": {
          "base_uri": "https://localhost:8080/",
          "height": 34
        },
        "outputId": "6dce2a2f-cff9-44c0-a77e-308af00b02e5"
      },
      "cell_type": "code",
      "source": [
        "FalseCount = 0\n",
        "TotalCount = 5\n",
        "for timg in normal_x[:5]:\n",
        "    if clf.predict([timg]) == [0]:\n",
        "        FalseCount +=1\n",
        "FalseCount,TotalCount"
      ],
      "execution_count": 25,
      "outputs": [
        {
          "output_type": "execute_result",
          "data": {
            "text/plain": [
              "(1, 5)"
            ]
          },
          "metadata": {
            "tags": []
          },
          "execution_count": 25
        }
      ]
    },
    {
      "metadata": {
        "id": "oB4rCWtjDiGo",
        "colab_type": "code",
        "colab": {
          "base_uri": "https://localhost:8080/",
          "height": 34
        },
        "outputId": "4fa17160-1ce0-4c09-c8fb-f99d044ae7d6"
      },
      "cell_type": "code",
      "source": [
        "FalseCount = 0\n",
        "TotalCount = 5\n",
        "for timg in normal_x[5:]:\n",
        "    if clf.predict([timg]) == [1]:\n",
        "        FalseCount +=1\n",
        "FalseCount,TotalCount"
      ],
      "execution_count": 26,
      "outputs": [
        {
          "output_type": "execute_result",
          "data": {
            "text/plain": [
              "(0, 5)"
            ]
          },
          "metadata": {
            "tags": []
          },
          "execution_count": 26
        }
      ]
    },
    {
      "metadata": {
        "id": "irhWR9S67o-z",
        "colab_type": "code",
        "colab": {}
      },
      "cell_type": "code",
      "source": [
        ""
      ],
      "execution_count": 0,
      "outputs": []
    }
  ]
}